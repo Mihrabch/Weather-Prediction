{
  "nbformat": 4,
  "nbformat_minor": 0,
  "metadata": {
    "colab": {
      "provenance": [],
      "toc_visible": true,
      "authorship_tag": "ABX9TyMR+55hO5cdx2Sk9Xxee5UQ"
    },
    "kernelspec": {
      "name": "python3",
      "display_name": "Python 3"
    },
    "language_info": {
      "name": "python"
    }
  },
  "cells": [
    {
      "cell_type": "code",
      "source": [
        "!pip install meteostat"
      ],
      "metadata": {
        "colab": {
          "base_uri": "https://localhost:8080/"
        },
        "id": "ylyeI302MXlF",
        "outputId": "e576151d-2303-49bc-bbe7-2ce42933ea44"
      },
      "execution_count": null,
      "outputs": [
        {
          "output_type": "stream",
          "name": "stdout",
          "text": [
            "Looking in indexes: https://pypi.org/simple, https://us-python.pkg.dev/colab-wheels/public/simple/\n",
            "Collecting meteostat\n",
            "  Downloading meteostat-1.6.5-py3-none-any.whl (31 kB)\n",
            "Requirement already satisfied: pytz in /usr/local/lib/python3.8/dist-packages (from meteostat) (2022.7)\n",
            "Requirement already satisfied: pandas>=1.1 in /usr/local/lib/python3.8/dist-packages (from meteostat) (1.3.5)\n",
            "Requirement already satisfied: numpy in /usr/local/lib/python3.8/dist-packages (from meteostat) (1.21.6)\n",
            "Requirement already satisfied: python-dateutil>=2.7.3 in /usr/local/lib/python3.8/dist-packages (from pandas>=1.1->meteostat) (2.8.2)\n",
            "Requirement already satisfied: six>=1.5 in /usr/local/lib/python3.8/dist-packages (from python-dateutil>=2.7.3->pandas>=1.1->meteostat) (1.15.0)\n",
            "Installing collected packages: meteostat\n",
            "Successfully installed meteostat-1.6.5\n"
          ]
        }
      ]
    },
    {
      "cell_type": "markdown",
      "source": [
        "**Import Meteostat library and dependencies**"
      ],
      "metadata": {
        "id": "wCWcHIRmXLh2"
      }
    },
    {
      "cell_type": "code",
      "execution_count": null,
      "metadata": {
        "id": "rC00aDhCA27z"
      },
      "outputs": [],
      "source": [
        "from datetime import datetime\n",
        "from meteostat import Hourly\n",
        "import pandas as pd\n",
        "import numpy as np\n",
        "import seaborn as sns\n",
        "import matplotlib.pyplot as plt\n",
        "from collections import Counter\n",
        "import seaborn as sns\n",
        "from sklearn.model_selection import train_test_split\n",
        "from sklearn.preprocessing import MinMaxScaler\n",
        "from sklearn.model_selection import StratifiedShuffleSplit\n",
        "from sklearn.model_selection import cross_val_score\n",
        "from sklearn.model_selection import cross_validate\n",
        "from sklearn import metrics\n",
        "from sklearn.model_selection import GridSearchCV\n",
        "from sklearn.model_selection import RandomizedSearchCV\n",
        "import warnings\n",
        "# warnings.filterwarnings('ignore')"
      ]
    },
    {
      "cell_type": "markdown",
      "source": [
        "**Importing Data From Meteostat**"
      ],
      "metadata": {
        "id": "uphsb1QrW1NG"
      }
    },
    {
      "cell_type": "code",
      "source": [
        "# Set time period\n",
        "#For Daily\n",
        "# start = datetime(2018, 1, 1)\n",
        "# end = datetime(2018, 12, 31)\n",
        "\n",
        "##Frame for calling Hourly Data##\n",
        "start = datetime(2020, 1, 1)\n",
        "end = datetime(2020, 12, 31, 23, 59)\n",
        "\n",
        "\n",
        "# Get Hourly data for 2020 on Hartsfield-Jackson Atlanta (Meteostat ID 72219)\n",
        "data = Hourly('72219', start, end)\n",
        "data = data.fetch()"
      ],
      "metadata": {
        "id": "oS_Pr1sOA9zu"
      },
      "execution_count": null,
      "outputs": []
    },
    {
      "cell_type": "markdown",
      "source": [
        "**Intial Exploring**\n"
      ],
      "metadata": {
        "id": "SmPVHuB1Wzzj"
      }
    },
    {
      "cell_type": "code",
      "source": [
        "data.info()\n",
        "data.isna().sum()\n",
        "#data['index'] = data.index\n",
        "data = data.reset_index()\n",
        "#data = data.rename(columns={\"index\": \"Time\"})\n",
        "data.head()\n"
      ],
      "metadata": {
        "id": "93nhBSSjOvvg",
        "colab": {
          "base_uri": "https://localhost:8080/",
          "height": 538
        },
        "outputId": "fa145403-6dad-4498-91b4-745df880d1a8"
      },
      "execution_count": null,
      "outputs": [
        {
          "output_type": "stream",
          "name": "stdout",
          "text": [
            "<class 'pandas.core.frame.DataFrame'>\n",
            "DatetimeIndex: 8784 entries, 2020-01-01 00:00:00 to 2020-12-31 23:00:00\n",
            "Data columns (total 11 columns):\n",
            " #   Column  Non-Null Count  Dtype  \n",
            "---  ------  --------------  -----  \n",
            " 0   temp    8784 non-null   float64\n",
            " 1   dwpt    8784 non-null   float64\n",
            " 2   rhum    8784 non-null   float64\n",
            " 3   prcp    8209 non-null   float64\n",
            " 4   snow    0 non-null      float64\n",
            " 5   wdir    8784 non-null   float64\n",
            " 6   wspd    8784 non-null   float64\n",
            " 7   wpgt    0 non-null      float64\n",
            " 8   pres    8784 non-null   float64\n",
            " 9   tsun    0 non-null      float64\n",
            " 10  coco    8784 non-null   float64\n",
            "dtypes: float64(11)\n",
            "memory usage: 823.5 KB\n"
          ]
        },
        {
          "output_type": "execute_result",
          "data": {
            "text/plain": [
              "                 time  temp  dwpt  rhum  prcp  snow   wdir  wspd  wpgt  \\\n",
              "0 2020-01-01 00:00:00   8.9  -2.1  46.0   NaN   NaN  280.0  14.8   NaN   \n",
              "1 2020-01-01 01:00:00   7.8  -1.7  51.0   0.0   NaN  280.0  13.0   NaN   \n",
              "2 2020-01-01 02:00:00   7.2  -2.3  51.0   0.0   NaN  260.0  13.0   NaN   \n",
              "3 2020-01-01 03:00:00   6.7  -2.2  53.0   0.0   NaN  270.0  14.8   NaN   \n",
              "4 2020-01-01 04:00:00   6.1  -2.3  55.0   0.0   NaN  270.0  14.8   NaN   \n",
              "\n",
              "     pres  tsun  coco  \n",
              "0  1016.6   NaN   2.0  \n",
              "1  1016.5   NaN   1.0  \n",
              "2  1016.7   NaN   1.0  \n",
              "3  1017.2   NaN   1.0  \n",
              "4  1017.4   NaN   1.0  "
            ],
            "text/html": [
              "\n",
              "  <div id=\"df-c2a1035e-a2d4-489a-958e-3e1340b30e33\">\n",
              "    <div class=\"colab-df-container\">\n",
              "      <div>\n",
              "<style scoped>\n",
              "    .dataframe tbody tr th:only-of-type {\n",
              "        vertical-align: middle;\n",
              "    }\n",
              "\n",
              "    .dataframe tbody tr th {\n",
              "        vertical-align: top;\n",
              "    }\n",
              "\n",
              "    .dataframe thead th {\n",
              "        text-align: right;\n",
              "    }\n",
              "</style>\n",
              "<table border=\"1\" class=\"dataframe\">\n",
              "  <thead>\n",
              "    <tr style=\"text-align: right;\">\n",
              "      <th></th>\n",
              "      <th>time</th>\n",
              "      <th>temp</th>\n",
              "      <th>dwpt</th>\n",
              "      <th>rhum</th>\n",
              "      <th>prcp</th>\n",
              "      <th>snow</th>\n",
              "      <th>wdir</th>\n",
              "      <th>wspd</th>\n",
              "      <th>wpgt</th>\n",
              "      <th>pres</th>\n",
              "      <th>tsun</th>\n",
              "      <th>coco</th>\n",
              "    </tr>\n",
              "  </thead>\n",
              "  <tbody>\n",
              "    <tr>\n",
              "      <th>0</th>\n",
              "      <td>2020-01-01 00:00:00</td>\n",
              "      <td>8.9</td>\n",
              "      <td>-2.1</td>\n",
              "      <td>46.0</td>\n",
              "      <td>NaN</td>\n",
              "      <td>NaN</td>\n",
              "      <td>280.0</td>\n",
              "      <td>14.8</td>\n",
              "      <td>NaN</td>\n",
              "      <td>1016.6</td>\n",
              "      <td>NaN</td>\n",
              "      <td>2.0</td>\n",
              "    </tr>\n",
              "    <tr>\n",
              "      <th>1</th>\n",
              "      <td>2020-01-01 01:00:00</td>\n",
              "      <td>7.8</td>\n",
              "      <td>-1.7</td>\n",
              "      <td>51.0</td>\n",
              "      <td>0.0</td>\n",
              "      <td>NaN</td>\n",
              "      <td>280.0</td>\n",
              "      <td>13.0</td>\n",
              "      <td>NaN</td>\n",
              "      <td>1016.5</td>\n",
              "      <td>NaN</td>\n",
              "      <td>1.0</td>\n",
              "    </tr>\n",
              "    <tr>\n",
              "      <th>2</th>\n",
              "      <td>2020-01-01 02:00:00</td>\n",
              "      <td>7.2</td>\n",
              "      <td>-2.3</td>\n",
              "      <td>51.0</td>\n",
              "      <td>0.0</td>\n",
              "      <td>NaN</td>\n",
              "      <td>260.0</td>\n",
              "      <td>13.0</td>\n",
              "      <td>NaN</td>\n",
              "      <td>1016.7</td>\n",
              "      <td>NaN</td>\n",
              "      <td>1.0</td>\n",
              "    </tr>\n",
              "    <tr>\n",
              "      <th>3</th>\n",
              "      <td>2020-01-01 03:00:00</td>\n",
              "      <td>6.7</td>\n",
              "      <td>-2.2</td>\n",
              "      <td>53.0</td>\n",
              "      <td>0.0</td>\n",
              "      <td>NaN</td>\n",
              "      <td>270.0</td>\n",
              "      <td>14.8</td>\n",
              "      <td>NaN</td>\n",
              "      <td>1017.2</td>\n",
              "      <td>NaN</td>\n",
              "      <td>1.0</td>\n",
              "    </tr>\n",
              "    <tr>\n",
              "      <th>4</th>\n",
              "      <td>2020-01-01 04:00:00</td>\n",
              "      <td>6.1</td>\n",
              "      <td>-2.3</td>\n",
              "      <td>55.0</td>\n",
              "      <td>0.0</td>\n",
              "      <td>NaN</td>\n",
              "      <td>270.0</td>\n",
              "      <td>14.8</td>\n",
              "      <td>NaN</td>\n",
              "      <td>1017.4</td>\n",
              "      <td>NaN</td>\n",
              "      <td>1.0</td>\n",
              "    </tr>\n",
              "  </tbody>\n",
              "</table>\n",
              "</div>\n",
              "      <button class=\"colab-df-convert\" onclick=\"convertToInteractive('df-c2a1035e-a2d4-489a-958e-3e1340b30e33')\"\n",
              "              title=\"Convert this dataframe to an interactive table.\"\n",
              "              style=\"display:none;\">\n",
              "        \n",
              "  <svg xmlns=\"http://www.w3.org/2000/svg\" height=\"24px\"viewBox=\"0 0 24 24\"\n",
              "       width=\"24px\">\n",
              "    <path d=\"M0 0h24v24H0V0z\" fill=\"none\"/>\n",
              "    <path d=\"M18.56 5.44l.94 2.06.94-2.06 2.06-.94-2.06-.94-.94-2.06-.94 2.06-2.06.94zm-11 1L8.5 8.5l.94-2.06 2.06-.94-2.06-.94L8.5 2.5l-.94 2.06-2.06.94zm10 10l.94 2.06.94-2.06 2.06-.94-2.06-.94-.94-2.06-.94 2.06-2.06.94z\"/><path d=\"M17.41 7.96l-1.37-1.37c-.4-.4-.92-.59-1.43-.59-.52 0-1.04.2-1.43.59L10.3 9.45l-7.72 7.72c-.78.78-.78 2.05 0 2.83L4 21.41c.39.39.9.59 1.41.59.51 0 1.02-.2 1.41-.59l7.78-7.78 2.81-2.81c.8-.78.8-2.07 0-2.86zM5.41 20L4 18.59l7.72-7.72 1.47 1.35L5.41 20z\"/>\n",
              "  </svg>\n",
              "      </button>\n",
              "      \n",
              "  <style>\n",
              "    .colab-df-container {\n",
              "      display:flex;\n",
              "      flex-wrap:wrap;\n",
              "      gap: 12px;\n",
              "    }\n",
              "\n",
              "    .colab-df-convert {\n",
              "      background-color: #E8F0FE;\n",
              "      border: none;\n",
              "      border-radius: 50%;\n",
              "      cursor: pointer;\n",
              "      display: none;\n",
              "      fill: #1967D2;\n",
              "      height: 32px;\n",
              "      padding: 0 0 0 0;\n",
              "      width: 32px;\n",
              "    }\n",
              "\n",
              "    .colab-df-convert:hover {\n",
              "      background-color: #E2EBFA;\n",
              "      box-shadow: 0px 1px 2px rgba(60, 64, 67, 0.3), 0px 1px 3px 1px rgba(60, 64, 67, 0.15);\n",
              "      fill: #174EA6;\n",
              "    }\n",
              "\n",
              "    [theme=dark] .colab-df-convert {\n",
              "      background-color: #3B4455;\n",
              "      fill: #D2E3FC;\n",
              "    }\n",
              "\n",
              "    [theme=dark] .colab-df-convert:hover {\n",
              "      background-color: #434B5C;\n",
              "      box-shadow: 0px 1px 3px 1px rgba(0, 0, 0, 0.15);\n",
              "      filter: drop-shadow(0px 1px 2px rgba(0, 0, 0, 0.3));\n",
              "      fill: #FFFFFF;\n",
              "    }\n",
              "  </style>\n",
              "\n",
              "      <script>\n",
              "        const buttonEl =\n",
              "          document.querySelector('#df-c2a1035e-a2d4-489a-958e-3e1340b30e33 button.colab-df-convert');\n",
              "        buttonEl.style.display =\n",
              "          google.colab.kernel.accessAllowed ? 'block' : 'none';\n",
              "\n",
              "        async function convertToInteractive(key) {\n",
              "          const element = document.querySelector('#df-c2a1035e-a2d4-489a-958e-3e1340b30e33');\n",
              "          const dataTable =\n",
              "            await google.colab.kernel.invokeFunction('convertToInteractive',\n",
              "                                                     [key], {});\n",
              "          if (!dataTable) return;\n",
              "\n",
              "          const docLinkHtml = 'Like what you see? Visit the ' +\n",
              "            '<a target=\"_blank\" href=https://colab.research.google.com/notebooks/data_table.ipynb>data table notebook</a>'\n",
              "            + ' to learn more about interactive tables.';\n",
              "          element.innerHTML = '';\n",
              "          dataTable['output_type'] = 'display_data';\n",
              "          await google.colab.output.renderOutput(dataTable, element);\n",
              "          const docLink = document.createElement('div');\n",
              "          docLink.innerHTML = docLinkHtml;\n",
              "          element.appendChild(docLink);\n",
              "        }\n",
              "      </script>\n",
              "    </div>\n",
              "  </div>\n",
              "  "
            ]
          },
          "metadata": {},
          "execution_count": 4
        }
      ]
    },
    {
      "cell_type": "markdown",
      "source": [
        "**Dropping Null and Nominal Columns**\n"
      ],
      "metadata": {
        "id": "dqFvftfaXiLZ"
      }
    },
    {
      "cell_type": "code",
      "source": [
        "weather = data\n",
        "weather_drp1 = weather.drop(columns = ['snow','tsun','wpgt','coco','time'])\n",
        "weather_drp1.info()"
      ],
      "metadata": {
        "colab": {
          "base_uri": "https://localhost:8080/"
        },
        "id": "L4EUX88OA-TK",
        "outputId": "b3587e7e-2321-4a1a-e063-b7f15eea3119"
      },
      "execution_count": null,
      "outputs": [
        {
          "output_type": "stream",
          "name": "stdout",
          "text": [
            "<class 'pandas.core.frame.DataFrame'>\n",
            "RangeIndex: 8784 entries, 0 to 8783\n",
            "Data columns (total 7 columns):\n",
            " #   Column  Non-Null Count  Dtype  \n",
            "---  ------  --------------  -----  \n",
            " 0   temp    8784 non-null   float64\n",
            " 1   dwpt    8784 non-null   float64\n",
            " 2   rhum    8784 non-null   float64\n",
            " 3   prcp    8209 non-null   float64\n",
            " 4   wdir    8784 non-null   float64\n",
            " 5   wspd    8784 non-null   float64\n",
            " 6   pres    8784 non-null   float64\n",
            "dtypes: float64(7)\n",
            "memory usage: 480.5 KB\n"
          ]
        }
      ]
    },
    {
      "cell_type": "markdown",
      "source": [
        "**Checking percentage of Null Rows and Imputing Them**\n"
      ],
      "metadata": {
        "id": "70cnd0enXqkh"
      }
    },
    {
      "cell_type": "code",
      "source": [
        "print(weather_drp1.apply(pd.isnull).sum()/weather_drp1.shape[0])\n",
        "weather_drp1['prcp'].fillna(weather_drp1['prcp'].mean(),inplace = True)\n",
        "print(weather_drp1.isnull().sum())\n"
      ],
      "metadata": {
        "colab": {
          "base_uri": "https://localhost:8080/"
        },
        "id": "ddfoEUxiA-YX",
        "outputId": "929c2107-1532-44be-b063-44e337392787"
      },
      "execution_count": null,
      "outputs": [
        {
          "output_type": "stream",
          "name": "stdout",
          "text": [
            "temp    0.00000\n",
            "dwpt    0.00000\n",
            "rhum    0.00000\n",
            "prcp    0.06546\n",
            "wdir    0.00000\n",
            "wspd    0.00000\n",
            "pres    0.00000\n",
            "dtype: float64\n",
            "temp    0\n",
            "dwpt    0\n",
            "rhum    0\n",
            "prcp    0\n",
            "wdir    0\n",
            "wspd    0\n",
            "pres    0\n",
            "dtype: int64\n"
          ]
        }
      ]
    },
    {
      "cell_type": "markdown",
      "source": [
        "**Percentage of 0**\n"
      ],
      "metadata": {
        "id": "WXOXNKytX6lK"
      }
    },
    {
      "cell_type": "code",
      "source": [
        "counts = []\n",
        "for i in range(0,7):\n",
        "  count = (weather_drp1.iloc[:,i] == 0).sum()/len(weather_drp1)\n",
        "  counts.append(count)\n",
        "counts"
      ],
      "metadata": {
        "id": "ayp_lbNjR7Rn",
        "outputId": "a88d9112-7bb2-4148-aa24-0150a2248705",
        "colab": {
          "base_uri": "https://localhost:8080/"
        }
      },
      "execution_count": null,
      "outputs": [
        {
          "output_type": "execute_result",
          "data": {
            "text/plain": [
              "[0.0034153005464480873,\n",
              " 0.006944444444444444,\n",
              " 0.0,\n",
              " 0.8602003642987249,\n",
              " 0.07832422586520947,\n",
              " 0.07832422586520947,\n",
              " 0.0]"
            ]
          },
          "metadata": {},
          "execution_count": 38
        }
      ]
    },
    {
      "cell_type": "markdown",
      "source": [
        "**Correlation for the numerical data with respect to \"rhum\"**\n"
      ],
      "metadata": {
        "id": "5Fs7V8d9YBC8"
      }
    },
    {
      "cell_type": "code",
      "source": [
        "\n",
        "corr = pd.DataFrame(weather_drp1.corr()[['rhum']].abs())\n",
        "#visual representation\n",
        "sns.set(rc={'figure.figsize':(11.7,8.27)})\n",
        "sns.heatmap(corr, xticklabels=True, yticklabels=True, annot=True)\n",
        "# weather_drp1"
      ],
      "metadata": {
        "colab": {
          "base_uri": "https://localhost:8080/",
          "height": 522
        },
        "id": "cH3ZPA84Bzpq",
        "outputId": "e511d985-6818-449c-d630-4681a5b536ab"
      },
      "execution_count": null,
      "outputs": [
        {
          "output_type": "execute_result",
          "data": {
            "text/plain": [
              "<matplotlib.axes._subplots.AxesSubplot at 0x7f205cc519a0>"
            ]
          },
          "metadata": {},
          "execution_count": 39
        },
        {
          "output_type": "display_data",
          "data": {
            "text/plain": [
              "<Figure size 842.4x595.44 with 2 Axes>"
            ],
            "image/png": "[encoded data removed]"
          },
          "metadata": {}
        }
      ]
    },
    {
      "cell_type": "markdown",
      "source": [
        "**Assigning \"rhum\" as target variable and splitting dataset**\n"
      ],
      "metadata": {
        "id": "jBqpozNBYQW_"
      }
    },
    {
      "cell_type": "code",
      "source": [
        "weather_y=weather_drp1.iloc[:,2]\n",
        "weather_x=weather_drp1.drop(columns = 'rhum')"
      ],
      "metadata": {
        "id": "tERL_YpQB0aj"
      },
      "execution_count": null,
      "outputs": []
    },
    {
      "cell_type": "code",
      "source": [
        "## Train and Test Data ##\n",
        "x_train,x_test,y_train,y_test=train_test_split(weather_x,weather_y,test_size=0.2,random_state=4)\n",
        "#random_state gives the same value when assigned 0 or any int\n",
        "\n"
      ],
      "metadata": {
        "id": "IU7WRCsfB3wp"
      },
      "execution_count": null,
      "outputs": []
    },
    {
      "cell_type": "markdown",
      "source": [
        "**Importing Necessary Models and Error Models**\n"
      ],
      "metadata": {
        "id": "A_NE__nFdrWI"
      }
    },
    {
      "cell_type": "code",
      "source": [
        "\n",
        "from sklearn.tree import DecisionTreeRegressor\n",
        "from sklearn.ensemble import RandomForestRegressor\n",
        "from sklearn.neural_network import MLPRegressor\n",
        "from sklearn.metrics import accuracy_score\n",
        "from sklearn.metrics import r2_score\n",
        "from sklearn.metrics import mean_squared_error\n",
        "from sklearn.metrics import mean_absolute_error\n",
        "from sklearn.metrics import r2_score\n",
        "import warnings"
      ],
      "metadata": {
        "id": "zk1CuFo0dsaV"
      },
      "execution_count": null,
      "outputs": []
    },
    {
      "cell_type": "markdown",
      "source": [
        "**Preparing Pipeline**"
      ],
      "metadata": {
        "id": "V9bh_ckFdy14"
      }
    },
    {
      "cell_type": "code",
      "source": [
        "## PipeLine ##\n",
        "models_to_test = {\n",
        "                  'decision tree': DecisionTreeRegressor(),\n",
        "                  'random forest': RandomForestRegressor(),\n",
        "                  'ML Regressor' : MLPRegressor()\n",
        "                  }\n",
        "def predict_and_return_error(y_predict, y_test):\n",
        "    MAE = mean_absolute_error(y_test, y_predict)\n",
        "    lin_mse = mean_squared_error(y_test, y_predict)\n",
        "    lin_rmse = np.sqrt(lin_mse)\n",
        "    r2 = r2_score(y_test, y_predict)\n",
        "    warnings.simplefilter(\"ignore\")\n",
        "\n",
        "    return MAE, lin_mse, lin_rmse,r2\n",
        "\n",
        "\n"
      ],
      "metadata": {
        "id": "YQwwGB698-1I"
      },
      "execution_count": null,
      "outputs": []
    },
    {
      "cell_type": "markdown",
      "source": [
        "**Train **\n"
      ],
      "metadata": {
        "id": "7W4aUekRnvJO"
      }
    },
    {
      "cell_type": "code",
      "source": [
        "models_to_test['decision tree'].fit(x_train, y_train)\n",
        "models_to_test['random forest'].fit(x_train, y_train)\n",
        "models_to_test['ML Regressor'].fit(x_train, y_train)\n",
        "\n",
        "y_predictrd = models_to_test['decision tree'].predict(x_train)\n",
        "y_predictrr = models_to_test['random forest'].predict(x_train)\n",
        "y_predictrml = models_to_test['ML Regressor'].predict(x_train)\n",
        "\n",
        "yr = pd.DataFrame([y_predictrd,y_predictrr,y_predictrml ])\n"
      ],
      "metadata": {
        "id": "-RbPSJ_gB32i"
      },
      "execution_count": null,
      "outputs": []
    },
    {
      "cell_type": "markdown",
      "source": [
        "**Cross Validation Score**"
      ],
      "metadata": {
        "id": "jMZYyXvpiq2d"
      }
    },
    {
      "cell_type": "code",
      "source": [
        "scoresdt = cross_validate(models_to_test['decision tree'], x_train, y_train, cv=5,scoring=('r2'))\n",
        "scoresrf = cross_validate(models_to_test['random forest'], x_train, y_train, cv=5,scoring=('r2'))\n",
        "scoresml = cross_validate(models_to_test['ML Regressor'], x_train, y_train, cv=5,scoring=('r2'))\n",
        "r2dt = scoresdt['test_score'].mean()\n",
        "r2rf = scoresrf['test_score'].mean()\n",
        "r2ml = scoresml['test_score'].mean()"
      ],
      "metadata": {
        "id": "cB8xkpWAip_f"
      },
      "execution_count": null,
      "outputs": []
    },
    {
      "cell_type": "code",
      "source": [
        "print('Decision Tree:',r2dt,'Random Forest:',r2rf,'ML Regressor:',r2ml)"
      ],
      "metadata": {
        "colab": {
          "base_uri": "https://localhost:8080/"
        },
        "id": "LodTVU4-qSTk",
        "outputId": "dbc24574-0e01-4a5f-b86c-7d0699dac5b8"
      },
      "execution_count": null,
      "outputs": [
        {
          "output_type": "stream",
          "name": "stdout",
          "text": [
            "Decision Tree: 0.9892930577146076 Random Forest: 0.9962337958798357 ML Regressor: 0.9923249833252935\n"
          ]
        }
      ]
    },
    {
      "cell_type": "markdown",
      "source": [
        "**Predict**"
      ],
      "metadata": {
        "id": "BJMwrlyJqMo3"
      }
    },
    {
      "cell_type": "code",
      "source": [
        "\n",
        "y_predictd = models_to_test['decision tree'].predict(x_test)\n",
        "y_predictr = models_to_test['random forest'].predict(x_test)\n",
        "y_predictml = models_to_test['ML Regressor'].predict(x_test)\n",
        "y = pd.DataFrame([y_predictd,y_predictr,y_predictml ])"
      ],
      "metadata": {
        "id": "MyuWpTk5qEu3"
      },
      "execution_count": null,
      "outputs": []
    },
    {
      "cell_type": "markdown",
      "source": [
        "**Accuracy Analysis**\n"
      ],
      "metadata": {
        "id": "eFXLuyS8ny0f"
      }
    },
    {
      "cell_type": "code",
      "source": [
        "error = [] # test data error\n",
        "er = []\n",
        "trer = [] # train data error\n",
        "trerror =[]\n",
        "\n",
        "for i in range (0,len(y)):\n",
        "  error = predict_and_return_error(y.iloc[i,:], y_test)\n",
        "  er.append(error)\n",
        "# print(er)\n",
        "\n",
        "for i in range (0,len(y)):\n",
        "  trerror = predict_and_return_error(yr.iloc[i,:], y_train)\n",
        "  trer.append(trerror)\n",
        "# print(trer)\n",
        "\n",
        "  \n",
        "\n",
        "name = ['Decision Tree','Random Forest', 'ML']\n",
        "\n",
        "er = pd.DataFrame(er)\n",
        "er['Name'] = name\n",
        "er = er.rename(columns={0: 'MAE', 1: 'MSE', 2: 'RMSE', 3: 'R^2'})\n",
        "\n",
        "print(er)"
      ],
      "metadata": {
        "colab": {
          "base_uri": "https://localhost:8080/"
        },
        "id": "mH6uiq6iB39E",
        "outputId": "94e540af-9b34-4330-b0d8-747cbc3866bd"
      },
      "execution_count": null,
      "outputs": [
        {
          "output_type": "stream",
          "name": "stdout",
          "text": [
            "        MAE       MSE      RMSE       R^2           Name\n",
            "0  0.618099  3.354582  1.831552  0.989898  Decision Tree\n",
            "1  0.476397  1.102197  1.049856  0.996681  Random Forest\n",
            "2  0.661824  0.689614  0.830430  0.997923             ML\n"
          ]
        }
      ]
    },
    {
      "cell_type": "markdown",
      "source": [
        "**Visualization of Accuracy**\n"
      ],
      "metadata": {
        "id": "9UK3z3cqn37-"
      }
    },
    {
      "cell_type": "code",
      "source": [
        "model_name = er.iloc[:,4]\n",
        "#error = er.iloc[0:3,0:4]\n",
        "x = np.arange(len(model_name))\n",
        "width = .2\n",
        "plt.bar(x, er.iloc[:,0], width/2,label = 'MAE')\n",
        "plt.bar(x+ width/2, er.iloc[:,2], width/2, label = 'RMSE',color = 'red')\n",
        "plt.bar(x+ width/2*2, er.iloc[:,3], width/2, label = 'R^2',color = 'green')\n",
        "\n",
        "\n",
        "# plt.bar( x + width/2*2 , er.iloc[:,2], width/2,label = 'RMSE')\n",
        "\n",
        "\n",
        "plt.xticks(x,model_name)\n",
        "# plt.yticks(x,model_name)\n",
        "plt.xlabel(\"Model Name\")\n",
        "plt.ylabel(\"Error\")\n",
        "plt.title(\"Error Bar\")\n",
        "plt.tight_layout()\n",
        "plt.legend()\n",
        "plt.show()\n"
      ],
      "metadata": {
        "colab": {
          "base_uri": "https://localhost:8080/",
          "height": 600
        },
        "id": "FVh3rQUyB4AN",
        "outputId": "671fff98-cb7c-4d88-eaef-a944da07bc1f"
      },
      "execution_count": null,
      "outputs": [
        {
          "output_type": "display_data",
          "data": {
            "text/plain": [
              "<Figure size 842.4x595.44 with 1 Axes>"
            ],
            "image/png": "[encoded data removed]"
          },
          "metadata": {}
        }
      ]
    },
    {
      "cell_type": "markdown",
      "source": [
        "**Out of all three random forest is giving the best result in two of the metrics. So we are choosing this one for hyper parameter tuning.**"
      ],
      "metadata": {
        "id": "zRzoS6rUfrFZ"
      }
    },
    {
      "cell_type": "markdown",
      "source": [
        "**Fine Tuning**\n",
        "**Random Forest**\n",
        "\n"
      ],
      "metadata": {
        "id": "zKQZ2DsCeSSi"
      }
    },
    {
      "cell_type": "code",
      "source": [
        "RF_model=RandomForestRegressor()"
      ],
      "metadata": {
        "id": "XFXggS-NfZvS"
      },
      "execution_count": null,
      "outputs": []
    },
    {
      "cell_type": "code",
      "source": [
        "parameters = {'n_estimators': [20,25,100,200],\n",
        "\n",
        "'max_features': ['auto', 'sqrt'],\n",
        "\n",
        "'max_depth': [16,18],\n",
        "\n",
        "'min_samples_split': [2,3],\n",
        "\n",
        "'min_samples_leaf':  [1,2,3],\n",
        "              \n",
        "'random_state': [1,10,42],\n",
        "              \n",
        "'bootstrap': [True, False]}\n",
        "\n",
        "tuning_model_RF = RandomizedSearchCV(RF_model,parameters,scoring='neg_mean_squared_error', cv = 5)\n",
        "tuning_model_RF.fit(x_train,y_train)\n",
        "tuning_model_RF.best_params_"
      ],
      "metadata": {
        "colab": {
          "base_uri": "https://localhost:8080/"
        },
        "id": "DUxSYweQeTll",
        "outputId": "a95b5e70-c07e-417e-a852-b19bfe3837c1"
      },
      "execution_count": null,
      "outputs": [
        {
          "output_type": "execute_result",
          "data": {
            "text/plain": [
              "{'random_state': 42,\n",
              " 'n_estimators': 100,\n",
              " 'min_samples_split': 2,\n",
              " 'min_samples_leaf': 3,\n",
              " 'max_features': 'auto',\n",
              " 'max_depth': 16,\n",
              " 'bootstrap': True}"
            ]
          },
          "metadata": {},
          "execution_count": 56
        }
      ]
    },
    {
      "cell_type": "markdown",
      "source": [
        "**Train, Predict and Accuracy Analysis Using Hyper Tuned Parameter**"
      ],
      "metadata": {
        "id": "k8zS8fCkorE1"
      }
    },
    {
      "cell_type": "code",
      "source": [
        "models_to_test_Hyper = { 'random forest Hyper': RandomForestRegressor(n_estimators= 100, bootstrap= True, max_depth=16,max_features='auto', min_samples_leaf=3,min_samples_split=2,random_state=42)\n",
        "                  }"
      ],
      "metadata": {
        "id": "of1kRuoDeVM7"
      },
      "execution_count": null,
      "outputs": []
    },
    {
      "cell_type": "code",
      "source": [
        "models_to_test_Hyper['random forest Hyper'].fit(x_train, y_train)\n",
        "y_predictrainrh = models_to_test_Hyper['random forest Hyper'].predict(x_train)\n",
        "y_predictestrh = models_to_test_Hyper['random forest Hyper'].predict(x_test)\n"
      ],
      "metadata": {
        "id": "7g8FBXBPeVKS"
      },
      "execution_count": null,
      "outputs": []
    },
    {
      "cell_type": "code",
      "source": [
        "yh = pd.DataFrame([y_predictestrh])\n",
        "errorh = [] #for test data\n",
        "erh = [] #for test data\n",
        "\n",
        "for i in range (0,len(yh)):\n",
        "  errorh = predict_and_return_error(yh.iloc[i,:], y_test)\n",
        "  erh.append(errorh)\n",
        "# print(er)\n",
        "\n",
        "nameh = ['Random Forest']\n",
        "\n",
        "erh = pd.DataFrame(erh)\n",
        "erh['Name'] = nameh\n",
        "erh = erh.rename(columns={0: 'MAE', 1: 'RMSE', 2: 'R^2'})\n",
        "\n",
        "print(erh)"
      ],
      "metadata": {
        "colab": {
          "base_uri": "https://localhost:8080/"
        },
        "id": "zuw4TJmTeVAN",
        "outputId": "842041eb-0eb1-4328-edaa-27316956dd67"
      },
      "execution_count": null,
      "outputs": [
        {
          "output_type": "stream",
          "name": "stdout",
          "text": [
            "        MAE     RMSE       R^2         3           Name\n",
            "0  0.580178  1.54905  1.244608  0.995335  Random Forest\n"
          ]
        }
      ]
    },
    {
      "cell_type": "code",
      "source": [
        "print_range = 100\n",
        "x_range = range(print_range)\n",
        "sns.set_style('white')\n",
        "fig = plt.subplots(figsize=(15, 6))\n",
        "\n",
        "plt.plot(x_range, y_predictestrh[:print_range], label='Random Forest predicted')\n",
        "plt.plot(x_range, y_test[:print_range], label='Real value',alpha=0.4)\n",
        "\n",
        "plt.title(f'Rhum Comparison', fontsize=20)\n",
        "plt.ylabel(\"Rhum\")\n",
        "plt.xlabel(\"Testing Points\")\n",
        "plt.legend()\n",
        "# plt.tight_layout()\n",
        "plt.show()\n"
      ],
      "metadata": {
        "colab": {
          "base_uri": "https://localhost:8080/",
          "height": 415
        },
        "id": "29vAf9zXeVD3",
        "outputId": "796bba53-6b8f-4604-998e-8e3d3dce72b1"
      },
      "execution_count": null,
      "outputs": [
        {
          "output_type": "display_data",
          "data": {
            "text/plain": [
              "<Figure size 1080x432 with 1 Axes>"
            ],
            "image/png": "[encoded data removed]"
          },
          "metadata": {}
        }
      ]
    },
    {
      "cell_type": "code",
      "source": [],
      "metadata": {
        "id": "6yB7nUhWeU8J"
      },
      "execution_count": null,
      "outputs": []
    }
  ]
}