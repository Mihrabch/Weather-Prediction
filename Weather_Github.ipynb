{
  "nbformat": 4,
  "nbformat_minor": 0,
  "metadata": {
    "colab": {
      "provenance": [],
      "toc_visible": true,
      "authorship_tag": "ABX9TyM+BApTQ+/mp7GMQrjY2noI"
    },
    "kernelspec": {
      "name": "python3",
      "display_name": "Python 3"
    },
    "language_info": {
      "name": "python"
    }
  },
  "cells": [
    {
      "cell_type": "code",
      "source": [
        "!pip install meteostat"
      ],
      "metadata": {
        "colab": {
          "base_uri": "https://localhost:8080/"
        },
        "id": "ylyeI302MXlF",
        "outputId": "00dc12c1-7780-41bf-e675-d14c063678cb"
      },
      "execution_count": 2,
      "outputs": [
        {
          "output_type": "stream",
          "name": "stdout",
          "text": [
            "Looking in indexes: https://pypi.org/simple, https://us-python.pkg.dev/colab-wheels/public/simple/\n",
            "Collecting meteostat\n",
            "  Downloading meteostat-1.6.5-py3-none-any.whl (31 kB)\n",
            "Requirement already satisfied: numpy in /usr/local/lib/python3.8/dist-packages (from meteostat) (1.21.6)\n",
            "Requirement already satisfied: pandas>=1.1 in /usr/local/lib/python3.8/dist-packages (from meteostat) (1.3.5)\n",
            "Requirement already satisfied: pytz in /usr/local/lib/python3.8/dist-packages (from meteostat) (2022.7)\n",
            "Requirement already satisfied: python-dateutil>=2.7.3 in /usr/local/lib/python3.8/dist-packages (from pandas>=1.1->meteostat) (2.8.2)\n",
            "Requirement already satisfied: six>=1.5 in /usr/local/lib/python3.8/dist-packages (from python-dateutil>=2.7.3->pandas>=1.1->meteostat) (1.15.0)\n",
            "Installing collected packages: meteostat\n",
            "Successfully installed meteostat-1.6.5\n"
          ]
        }
      ]
    },
    {
      "cell_type": "code",
      "execution_count": 3,
      "metadata": {
        "id": "rC00aDhCA27z"
      },
      "outputs": [],
      "source": [
        "# Import Meteostat library and dependencies\n",
        "from datetime import datetime\n",
        "from meteostat import Hourly\n",
        "import pandas as pd\n",
        "import numpy as np\n",
        "import seaborn as sns\n",
        "import matplotlib.pyplot as plt\n",
        "from collections import Counter\n",
        "import seaborn as sns\n",
        "from sklearn.model_selection import train_test_split\n",
        "from sklearn.preprocessing import MinMaxScaler\n",
        "from sklearn.model_selection import StratifiedShuffleSplit\n",
        "from sklearn.model_selection import cross_val_score\n",
        "from sklearn import metrics\n",
        "import warnings\n",
        "# warnings.filterwarnings('ignore')"
      ]
    },
    {
      "cell_type": "code",
      "source": [
        "# Set time period\n",
        "#For Daily\n",
        "# start = datetime(2018, 1, 1)\n",
        "# end = datetime(2018, 12, 31)\n",
        "\n",
        "##For Hourly##\n",
        "start = datetime(2020, 1, 1)\n",
        "end = datetime(2020, 12, 31, 23, 59)\n",
        "\n",
        "\n",
        "# Get Hourly data for 2020 on Hartsfield-Jackson Atlanta (Meteostat ID 72219)\n",
        "data = Hourly('72219', start, end)\n",
        "data = data.fetch()\n",
        "data.info()\n",
        "data.isna().sum()"
      ],
      "metadata": {
        "colab": {
          "base_uri": "https://localhost:8080/"
        },
        "id": "oS_Pr1sOA9zu",
        "outputId": "2f3f122e-84ca-44ec-ed51-602e85e00f36"
      },
      "execution_count": 4,
      "outputs": [
        {
          "output_type": "stream",
          "name": "stdout",
          "text": [
            "<class 'pandas.core.frame.DataFrame'>\n",
            "DatetimeIndex: 8784 entries, 2020-01-01 00:00:00 to 2020-12-31 23:00:00\n",
            "Data columns (total 11 columns):\n",
            " #   Column  Non-Null Count  Dtype  \n",
            "---  ------  --------------  -----  \n",
            " 0   temp    8784 non-null   float64\n",
            " 1   dwpt    8784 non-null   float64\n",
            " 2   rhum    8784 non-null   float64\n",
            " 3   prcp    8209 non-null   float64\n",
            " 4   snow    0 non-null      float64\n",
            " 5   wdir    8784 non-null   float64\n",
            " 6   wspd    8784 non-null   float64\n",
            " 7   wpgt    0 non-null      float64\n",
            " 8   pres    8784 non-null   float64\n",
            " 9   tsun    0 non-null      float64\n",
            " 10  coco    8784 non-null   float64\n",
            "dtypes: float64(11)\n",
            "memory usage: 823.5 KB\n"
          ]
        },
        {
          "output_type": "execute_result",
          "data": {
            "text/plain": [
              "temp       0\n",
              "dwpt       0\n",
              "rhum       0\n",
              "prcp     575\n",
              "snow    8784\n",
              "wdir       0\n",
              "wspd       0\n",
              "wpgt    8784\n",
              "pres       0\n",
              "tsun    8784\n",
              "coco       0\n",
              "dtype: int64"
            ]
          },
          "metadata": {},
          "execution_count": 4
        }
      ]
    },
    {
      "cell_type": "code",
      "source": [],
      "metadata": {
        "id": "oSumamaDMjBG"
      },
      "execution_count": 4,
      "outputs": []
    },
    {
      "cell_type": "code",
      "source": [
        "weather = data\n",
        "#Dropping Null and Nominal Columns \n",
        "weather_drp1 = weather.drop(columns = ['snow','tsun','wpgt','coco'])\n",
        "weather_drp1.info()"
      ],
      "metadata": {
        "colab": {
          "base_uri": "https://localhost:8080/"
        },
        "id": "L4EUX88OA-TK",
        "outputId": "eaa3d982-a924-4b8c-a086-a59ab348bc6e"
      },
      "execution_count": 5,
      "outputs": [
        {
          "output_type": "stream",
          "name": "stdout",
          "text": [
            "<class 'pandas.core.frame.DataFrame'>\n",
            "DatetimeIndex: 8784 entries, 2020-01-01 00:00:00 to 2020-12-31 23:00:00\n",
            "Data columns (total 7 columns):\n",
            " #   Column  Non-Null Count  Dtype  \n",
            "---  ------  --------------  -----  \n",
            " 0   temp    8784 non-null   float64\n",
            " 1   dwpt    8784 non-null   float64\n",
            " 2   rhum    8784 non-null   float64\n",
            " 3   prcp    8209 non-null   float64\n",
            " 4   wdir    8784 non-null   float64\n",
            " 5   wspd    8784 non-null   float64\n",
            " 6   pres    8784 non-null   float64\n",
            "dtypes: float64(7)\n",
            "memory usage: 549.0 KB\n"
          ]
        }
      ]
    },
    {
      "cell_type": "code",
      "source": [
        "## Checking for Null Value and Replacing them with MEAN\n",
        "print(weather_drp1.apply(pd.isnull).sum()/weather_drp1.shape[0])\n",
        "weather_drp1['prcp'].fillna(weather_drp1['prcp'].mean(),inplace = True)\n",
        "print(weather_drp1.isnull().sum())\n"
      ],
      "metadata": {
        "colab": {
          "base_uri": "https://localhost:8080/"
        },
        "id": "ddfoEUxiA-YX",
        "outputId": "0fbb0ab6-02f2-4552-e81d-03ac473b870f"
      },
      "execution_count": 6,
      "outputs": [
        {
          "output_type": "stream",
          "name": "stdout",
          "text": [
            "temp    0.00000\n",
            "dwpt    0.00000\n",
            "rhum    0.00000\n",
            "prcp    0.06546\n",
            "wdir    0.00000\n",
            "wspd    0.00000\n",
            "pres    0.00000\n",
            "dtype: float64\n",
            "temp    0\n",
            "dwpt    0\n",
            "rhum    0\n",
            "prcp    0\n",
            "wdir    0\n",
            "wspd    0\n",
            "pres    0\n",
            "dtype: int64\n"
          ]
        }
      ]
    },
    {
      "cell_type": "code",
      "source": [
        "## Percentage of 0\n",
        "counts = []\n",
        "for i in range(0,7):\n",
        "  count = (weather_drp1.iloc[:,i] == 0).sum()/len(weather_drp1)\n",
        "  counts.append(count)\n",
        "counts"
      ],
      "metadata": {
        "colab": {
          "base_uri": "https://localhost:8080/"
        },
        "id": "ZQVYv88tBw6f",
        "outputId": "3ee18fd5-860b-4a64-d363-7a80a8078578"
      },
      "execution_count": 7,
      "outputs": [
        {
          "output_type": "execute_result",
          "data": {
            "text/plain": [
              "[0.0034153005464480873,\n",
              " 0.006944444444444444,\n",
              " 0.0,\n",
              " 0.8602003642987249,\n",
              " 0.07832422586520947,\n",
              " 0.07832422586520947,\n",
              " 0.0]"
            ]
          },
          "metadata": {},
          "execution_count": 7
        }
      ]
    },
    {
      "cell_type": "code",
      "source": [
        "#correlation for the numerical data with respect to \"rhum\"\n",
        "\n",
        "corr = pd.DataFrame(weather_drp1.corr()[['rhum']].abs())\n",
        "#visual representation\n",
        "sns.set(rc={'figure.figsize':(11.7,8.27)})\n",
        "sns.heatmap(corr, xticklabels=True, yticklabels=True, annot=True)\n",
        "# weather_drp1"
      ],
      "metadata": {
        "colab": {
          "base_uri": "https://localhost:8080/",
          "height": 521
        },
        "id": "cH3ZPA84Bzpq",
        "outputId": "4873da9b-63c1-4b23-8572-5f4b9d0fe4f6"
      },
      "execution_count": 8,
      "outputs": [
        {
          "output_type": "execute_result",
          "data": {
            "text/plain": [
              "<matplotlib.axes._subplots.AxesSubplot at 0x7f65b74e7160>"
            ]
          },
          "metadata": {},
          "execution_count": 8
        },
        {
          "output_type": "display_data",
          "data": {
            "text/plain": [
              "<Figure size 842.4x595.44 with 2 Axes>"
            ],
            "image/png": "[encoded data removed]"
          },
          "metadata": {}
        }
      ]
    },
    {
      "cell_type": "code",
      "source": [
        "## A ssigning \"rhum\" as target variable ##\n",
        "weather_y=weather_drp1.iloc[:,2]\n",
        "weather_x=weather_drp1.drop(columns = 'rhum')"
      ],
      "metadata": {
        "id": "tERL_YpQB0aj"
      },
      "execution_count": 9,
      "outputs": []
    },
    {
      "cell_type": "code",
      "source": [
        "## Train and Test Data ##\n",
        "x_train,x_test,y_train,y_test=train_test_split(weather_x,weather_y,test_size=0.2,random_state=4)\n",
        "\n",
        "## Importing Necessary Models and Error Models ## \n",
        "from sklearn.tree import DecisionTreeRegressor\n",
        "from sklearn.ensemble import RandomForestRegressor\n",
        "from sklearn.neural_network import MLPRegressor\n",
        "from sklearn.metrics import accuracy_score\n",
        "from sklearn.metrics import r2_score\n",
        "from sklearn.metrics import mean_squared_error\n",
        "from sklearn.metrics import mean_absolute_error\n",
        "from sklearn.metrics import r2_score\n",
        "import warnings\n"
      ],
      "metadata": {
        "id": "IU7WRCsfB3wp"
      },
      "execution_count": 10,
      "outputs": []
    },
    {
      "cell_type": "code",
      "source": [
        "## PipeLine ##\n",
        "models_to_test = {\n",
        "                  'decision tree': DecisionTreeRegressor(random_state=42),\n",
        "                  'random forest': RandomForestRegressor(n_estimators=100, random_state=42),\n",
        "                  'ML Regressor' : MLPRegressor(random_state=1, max_iter=400)\n",
        "                  }\n",
        "def predict_and_return_error(y_predict, y_test):\n",
        "    MAE = mean_absolute_error(y_test, y_predict)\n",
        "    lin_mse = mean_squared_error(y_test, y_predict)\n",
        "    lin_rmse = np.sqrt(lin_mse)\n",
        "    r2 = r2_score(y_test, y_predict)\n",
        "    warnings.simplefilter(\"ignore\")\n",
        "\n",
        "    return MAE, lin_mse, lin_rmse,r2\n",
        "\n",
        "\n"
      ],
      "metadata": {
        "id": "YQwwGB698-1I"
      },
      "execution_count": 11,
      "outputs": []
    },
    {
      "cell_type": "code",
      "source": [
        "## Train and Predic ##\n",
        "models_to_test['decision tree'].fit(x_train, y_train)\n",
        "models_to_test['random forest'].fit(x_train, y_train)\n",
        "models_to_test['ML Regressor'].fit(x_train, y_train)\n",
        "\n",
        "\n",
        "y_predictrd = models_to_test['decision tree'].predict(x_train)\n",
        "y_predictrr = models_to_test['random forest'].predict(x_train)\n",
        "y_predictrml = models_to_test['ML Regressor'].predict(x_train)\n",
        "\n",
        "y_predictd = models_to_test['decision tree'].predict(x_test)\n",
        "y_predictr = models_to_test['random forest'].predict(x_test)\n",
        "y_predictml = models_to_test['ML Regressor'].predict(x_test)\n",
        "\n",
        "\n",
        "yr = pd.DataFrame([y_predictrd,y_predictrr,y_predictrml ])\n",
        "y = pd.DataFrame([y_predictd,y_predictr,y_predictml ])"
      ],
      "metadata": {
        "id": "-RbPSJ_gB32i"
      },
      "execution_count": 12,
      "outputs": []
    },
    {
      "cell_type": "code",
      "source": [
        "## Accuracy Check ##\n",
        "error = [] # test data error\n",
        "er = []\n",
        "trer = [] # train data error\n",
        "trerror =[]\n",
        "\n",
        "for i in range (0,len(y)):\n",
        "  error = predict_and_return_error(y.iloc[i,:], y_test)\n",
        "  er.append(error)\n",
        "# print(er)\n",
        "\n",
        "for i in range (0,len(y)):\n",
        "  trerror = predict_and_return_error(yr.iloc[i,:], y_train)\n",
        "  trer.append(trerror)\n",
        "# print(trer)\n",
        "\n",
        "  \n",
        "\n",
        "name = ['Decision Tree','Random Forest', 'ML']\n",
        "\n",
        "er = pd.DataFrame(er)\n",
        "er['Name'] = name\n",
        "er = er.rename(columns={0: 'MAE', 1: 'MSE', 2: 'RMSE', 3: 'R^2'})\n",
        "\n",
        "print(er)"
      ],
      "metadata": {
        "colab": {
          "base_uri": "https://localhost:8080/"
        },
        "id": "mH6uiq6iB39E",
        "outputId": "99e12c4d-3ca5-4620-c1e5-0bbdcf8def24"
      },
      "execution_count": 14,
      "outputs": [
        {
          "output_type": "stream",
          "name": "stdout",
          "text": [
            "        MAE       MSE      RMSE       R^2           Name\n",
            "0  0.604439  3.323847  1.823142  0.989990  Decision Tree\n",
            "1  0.502168  1.295760  1.138314  0.996098  Random Forest\n",
            "2  2.260537  9.314630  3.051988  0.971949             ML\n"
          ]
        }
      ]
    },
    {
      "cell_type": "code",
      "source": [
        "## Visualization of Accuracy ##\n",
        "model_name = er.iloc[:,4]\n",
        "#error = er.iloc[0:3,0:4]\n",
        "x = np.arange(len(model_name))\n",
        "width = .2\n",
        "plt.bar(x, er.iloc[:,0], width/2,label = 'MAE')\n",
        "plt.bar(x+ width/2, er.iloc[:,2], width/2, label = 'RMSE',color = 'red')\n",
        "plt.bar(x+ width/2*2, er.iloc[:,3], width/2, label = 'R^2',color = 'green')\n",
        "\n",
        "\n",
        "# plt.bar( x + width/2*2 , er.iloc[:,2], width/2,label = 'RMSE')\n",
        "\n",
        "\n",
        "plt.xticks(x,model_name)\n",
        "# plt.yticks(x,model_name)\n",
        "plt.xlabel(\"Model Name\")\n",
        "plt.ylabel(\"Error\")\n",
        "plt.title(\"Error Bar\")\n",
        "plt.tight_layout()\n",
        "plt.legend()\n",
        "plt.show()\n"
      ],
      "metadata": {
        "colab": {
          "base_uri": "https://localhost:8080/",
          "height": 600
        },
        "id": "FVh3rQUyB4AN",
        "outputId": "a2c43de3-fe17-439a-acfb-5b28037adb6f"
      },
      "execution_count": 15,
      "outputs": [
        {
          "output_type": "display_data",
          "data": {
            "text/plain": [
              "<Figure size 842.4x595.44 with 1 Axes>"
            ],
            "image/png": "[encoded data removed]"
          },
          "metadata": {}
        }
      ]
    }
  ]
}